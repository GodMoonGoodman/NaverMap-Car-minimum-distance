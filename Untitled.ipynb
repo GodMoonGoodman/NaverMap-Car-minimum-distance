{
 "cells": [
  {
   "cell_type": "code",
   "execution_count": 5,
   "metadata": {},
   "outputs": [],
   "source": [
    "import requests as r"
   ]
  },
  {
   "cell_type": "code",
   "execution_count": 26,
   "metadata": {},
   "outputs": [],
   "source": [
    "import json"
   ]
  },
  {
   "cell_type": "code",
   "execution_count": 6,
   "metadata": {},
   "outputs": [],
   "source": [
    "http_header = {\n",
    "    'user-agent': 'Mozilla/5.0 (iPhone; CPU iPhone OS 11_0 like Mac OS X) AppleWebKit/604.1.38 (KHTML, like Gecko) Version/11.0 Mobile/15A372 Safari/604.1',\n",
    "    'x-requested-with': 'XMLHttpRequest'\n",
    "}"
   ]
  },
  {
   "cell_type": "code",
   "execution_count": 7,
   "metadata": {},
   "outputs": [],
   "source": [
    "session = r.Session()"
   ]
  },
  {
   "cell_type": "code",
   "execution_count": 9,
   "metadata": {},
   "outputs": [],
   "source": [
    "session.headers.update(http_header)"
   ]
  },
  {
   "cell_type": "code",
   "execution_count": 12,
   "metadata": {},
   "outputs": [],
   "source": [
    "start = '서울시'"
   ]
  },
  {
   "cell_type": "code",
   "execution_count": 13,
   "metadata": {},
   "outputs": [],
   "source": [
    "end = '남양주시'"
   ]
  },
  {
   "cell_type": "code",
   "execution_count": 15,
   "metadata": {},
   "outputs": [],
   "source": [
    "search_distance_url_base = 'https://m.map.naver.com/spirra/findCarRoute.nhn?route=route3&output=json&result=web3&coord_type=latlng&search=2&car=0&mileage=12.4'"
   ]
  },
  {
   "cell_type": "code",
   "execution_count": 22,
   "metadata": {},
   "outputs": [],
   "source": [
    "def SEARCH_DISTANCE_URL(start_point, end_point):\n",
    "    return search_distance_url_base+'&start={}&destination={}'.format(start_point, end_point)"
   ]
  },
  {
   "cell_type": "code",
   "execution_count": 20,
   "metadata": {},
   "outputs": [],
   "source": [
    "def SEARCH_POINT_URL(q):\n",
    "    return 'https://m.map.naver.com/apis/search/poi?query={}&page=1'.format(q)"
   ]
  },
  {
   "cell_type": "markdown",
   "metadata": {},
   "source": []
  },
  {
   "cell_type": "code",
   "execution_count": 63,
   "metadata": {},
   "outputs": [],
   "source": [
    "def GET_END_POINT(q):\n",
    "    res = session.get(SEARCH_POINT_URL(q)).text\n",
    "    res_dict = json.loads(res)\n",
    "    x = res_dict['result']['address']['list'][0]['x']\n",
    "    y = res_dict['result']['address']['list'][0]['y']\n",
    "    name = res_dict['result']['address']['list'][0]['name']\n",
    "    return '{},{},{}'.format(x, y, name)"
   ]
  },
  {
   "cell_type": "code",
   "execution_count": 86,
   "metadata": {},
   "outputs": [],
   "source": [
    "def GET_INFO(start, end):\n",
    "    start_point = GET_END_POINT(start)\n",
    "    end_point = GET_END_POINT(end)\n",
    "    \n",
    "    res = session.get(SEARCH_DISTANCE_URL(start_point, end_point)).text\n",
    "    res_dict = json.loads(res)\n",
    "    \n",
    "    target = res_dict['routes'][0]['summary']\n",
    "    distance = target['distance']\n",
    "    sec = target['duration']\n",
    "    taxi_fare = target['taxi_fare']\n",
    "    print('검색완료')\n",
    "    print('출발지: {}, 도착지: {}'.format(start, end))\n",
    "    print('추천경로 이동 거리: {}km'.format(distance/1000))\n",
    "    print('예상 소요시간: {}분'.format(sec/60))\n",
    "    print('예상 택시요금: {}원'.format(taxi_fare))"
   ]
  },
  {
   "cell_type": "code",
   "execution_count": 87,
   "metadata": {},
   "outputs": [
    {
     "name": "stdout",
     "output_type": "stream",
     "text": [
      "검색완료, 출발지: 서울시, 도착지: 남양주시\n",
      "추천경로 이동 거리: 27.222km\n",
      "예상 소요시간: 39.75분\n",
      "예상 택시요금: 26900원\n"
     ]
    }
   ],
   "source": [
    "GET_INFO(start, end)"
   ]
  },
  {
   "cell_type": "code",
   "execution_count": null,
   "metadata": {},
   "outputs": [],
   "source": []
  }
 ],
 "metadata": {
  "kernelspec": {
   "display_name": "Python 3",
   "language": "python",
   "name": "python3"
  },
  "language_info": {
   "codemirror_mode": {
    "name": "ipython",
    "version": 3
   },
   "file_extension": ".py",
   "mimetype": "text/x-python",
   "name": "python",
   "nbconvert_exporter": "python",
   "pygments_lexer": "ipython3",
   "version": "3.6.5"
  }
 },
 "nbformat": 4,
 "nbformat_minor": 2
}
